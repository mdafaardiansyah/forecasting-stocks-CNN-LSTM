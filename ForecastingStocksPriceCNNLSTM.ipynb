{
 "cells": [
  {
   "cell_type": "markdown",
   "id": "03f49506",
   "metadata": {
    "id": "03f49506"
   },
   "source": [
    "Import Library"
   ]
  },
  {
   "cell_type": "code",
   "execution_count": 1,
   "id": "10d7db6f",
   "metadata": {
    "id": "10d7db6f",
    "ExecuteTime": {
     "start_time": "2023-04-02T12:53:08.498096Z",
     "end_time": "2023-04-02T12:53:25.484885Z"
    }
   },
   "outputs": [],
   "source": [
    "import numpy as np\n",
    "import pandas as pd\n",
    "from keras.models import Sequential\n",
    "from keras.layers import Dense\n",
    "from keras.layers import LSTM\n",
    "from keras.layers import Dropout\n",
    "from keras.layers.convolutional import Conv1D\n",
    "from keras.layers.convolutional import MaxPooling1D"
   ]
  },
  {
   "cell_type": "code",
   "source": [
    "# from google.colab import drive\n",
    "# drive.mount('/gdrive')\n",
    "# %cd /gdrive"
   ],
   "metadata": {
    "colab": {
     "base_uri": "https://localhost:8080/"
    },
    "id": "xEloBZO31bu3",
    "outputId": "7a2ec4b7-f882-4183-bbe8-fed4f085e0e2",
    "ExecuteTime": {
     "start_time": "2023-04-02T12:53:25.500843Z",
     "end_time": "2023-04-02T12:53:25.501839Z"
    }
   },
   "id": "xEloBZO31bu3",
   "execution_count": 2,
   "outputs": []
  },
  {
   "cell_type": "code",
   "source": [
    "# from google.colab import drive\n",
    "# drive.mount('/content/drive')"
   ],
   "metadata": {
    "colab": {
     "base_uri": "https://localhost:8080/"
    },
    "id": "7i9J_OSiXfKX",
    "outputId": "d3fa1908-d6fe-4cf8-c5da-0878f348399d",
    "ExecuteTime": {
     "start_time": "2023-04-02T12:53:25.500843Z",
     "end_time": "2023-04-02T12:53:25.569106Z"
    }
   },
   "id": "7i9J_OSiXfKX",
   "execution_count": 3,
   "outputs": []
  },
  {
   "cell_type": "markdown",
   "id": "92d52e17",
   "metadata": {
    "id": "92d52e17"
   },
   "source": [
    "Load Dataset"
   ]
  },
  {
   "cell_type": "code",
   "execution_count": 4,
   "id": "6b320789",
   "metadata": {
    "id": "6b320789",
    "ExecuteTime": {
     "start_time": "2023-04-02T12:53:25.535748Z",
     "end_time": "2023-04-02T12:53:25.898111Z"
    }
   },
   "outputs": [],
   "source": [
    "dataset = pd.read_csv('NASDAQCompositeDataset.csv', index_col=0)\n",
    "#dataset = dataset.iloc[::-1] # reverse the order of dataset\n"
   ]
  },
  {
   "cell_type": "markdown",
   "source": [
    "Dataset Preview"
   ],
   "metadata": {
    "collapsed": false,
    "id": "ze78rCMGkLH9"
   },
   "id": "ze78rCMGkLH9"
  },
  {
   "cell_type": "code",
   "execution_count": 5,
   "outputs": [
    {
     "data": {
      "text/plain": "           Date      Price       Open       High        Low     Vol. Change %\nNo                                                                           \n0      9/6/2017   6,393.31   6,394.35   6,407.40   6,356.20  419.28M    0.28%\n1      9/7/2017   6,397.87   6,402.94   6,413.07   6,379.81  433.05M    0.07%\n2      9/8/2017   6,360.19   6,389.65   6,391.41   6,354.96  408.11M   -0.59%\n3     9/11/2017   6,432.26   6,411.18   6,439.11   6,410.71  431.57M    1.13%\n4     9/12/2017   6,454.28   6,448.81   6,455.02   6,429.54  404.69M    0.34%\n...         ...        ...        ...        ...        ...      ...      ...\n1372  2/17/2023  11,787.27  11,777.50  11,803.22  11,673.21  966.30M   -0.58%\n1373  2/21/2023  11,492.30  11,640.37  11,684.14  11,491.18    1.02B   -2.50%\n1374  2/22/2023  11,507.07  11,517.20  11,582.52  11,445.17  942.98M    0.13%\n1375  2/23/2023  11,590.40  11,636.93  11,638.97  11,432.58  903.17M    0.72%\n1376  2/24/2023  11,394.94  11,404.18  11,434.36  11,334.46  900.85M   -1.69%\n\n[1377 rows x 7 columns]",
      "text/html": "<div>\n<style scoped>\n    .dataframe tbody tr th:only-of-type {\n        vertical-align: middle;\n    }\n\n    .dataframe tbody tr th {\n        vertical-align: top;\n    }\n\n    .dataframe thead th {\n        text-align: right;\n    }\n</style>\n<table border=\"1\" class=\"dataframe\">\n  <thead>\n    <tr style=\"text-align: right;\">\n      <th></th>\n      <th>Date</th>\n      <th>Price</th>\n      <th>Open</th>\n      <th>High</th>\n      <th>Low</th>\n      <th>Vol.</th>\n      <th>Change %</th>\n    </tr>\n    <tr>\n      <th>No</th>\n      <th></th>\n      <th></th>\n      <th></th>\n      <th></th>\n      <th></th>\n      <th></th>\n      <th></th>\n    </tr>\n  </thead>\n  <tbody>\n    <tr>\n      <th>0</th>\n      <td>9/6/2017</td>\n      <td>6,393.31</td>\n      <td>6,394.35</td>\n      <td>6,407.40</td>\n      <td>6,356.20</td>\n      <td>419.28M</td>\n      <td>0.28%</td>\n    </tr>\n    <tr>\n      <th>1</th>\n      <td>9/7/2017</td>\n      <td>6,397.87</td>\n      <td>6,402.94</td>\n      <td>6,413.07</td>\n      <td>6,379.81</td>\n      <td>433.05M</td>\n      <td>0.07%</td>\n    </tr>\n    <tr>\n      <th>2</th>\n      <td>9/8/2017</td>\n      <td>6,360.19</td>\n      <td>6,389.65</td>\n      <td>6,391.41</td>\n      <td>6,354.96</td>\n      <td>408.11M</td>\n      <td>-0.59%</td>\n    </tr>\n    <tr>\n      <th>3</th>\n      <td>9/11/2017</td>\n      <td>6,432.26</td>\n      <td>6,411.18</td>\n      <td>6,439.11</td>\n      <td>6,410.71</td>\n      <td>431.57M</td>\n      <td>1.13%</td>\n    </tr>\n    <tr>\n      <th>4</th>\n      <td>9/12/2017</td>\n      <td>6,454.28</td>\n      <td>6,448.81</td>\n      <td>6,455.02</td>\n      <td>6,429.54</td>\n      <td>404.69M</td>\n      <td>0.34%</td>\n    </tr>\n    <tr>\n      <th>...</th>\n      <td>...</td>\n      <td>...</td>\n      <td>...</td>\n      <td>...</td>\n      <td>...</td>\n      <td>...</td>\n      <td>...</td>\n    </tr>\n    <tr>\n      <th>1372</th>\n      <td>2/17/2023</td>\n      <td>11,787.27</td>\n      <td>11,777.50</td>\n      <td>11,803.22</td>\n      <td>11,673.21</td>\n      <td>966.30M</td>\n      <td>-0.58%</td>\n    </tr>\n    <tr>\n      <th>1373</th>\n      <td>2/21/2023</td>\n      <td>11,492.30</td>\n      <td>11,640.37</td>\n      <td>11,684.14</td>\n      <td>11,491.18</td>\n      <td>1.02B</td>\n      <td>-2.50%</td>\n    </tr>\n    <tr>\n      <th>1374</th>\n      <td>2/22/2023</td>\n      <td>11,507.07</td>\n      <td>11,517.20</td>\n      <td>11,582.52</td>\n      <td>11,445.17</td>\n      <td>942.98M</td>\n      <td>0.13%</td>\n    </tr>\n    <tr>\n      <th>1375</th>\n      <td>2/23/2023</td>\n      <td>11,590.40</td>\n      <td>11,636.93</td>\n      <td>11,638.97</td>\n      <td>11,432.58</td>\n      <td>903.17M</td>\n      <td>0.72%</td>\n    </tr>\n    <tr>\n      <th>1376</th>\n      <td>2/24/2023</td>\n      <td>11,394.94</td>\n      <td>11,404.18</td>\n      <td>11,434.36</td>\n      <td>11,334.46</td>\n      <td>900.85M</td>\n      <td>-1.69%</td>\n    </tr>\n  </tbody>\n</table>\n<p>1377 rows × 7 columns</p>\n</div>"
     },
     "execution_count": 5,
     "metadata": {},
     "output_type": "execute_result"
    }
   ],
   "source": [
    "dataset"
   ],
   "metadata": {
    "id": "21kNoxgGkLH9",
    "outputId": "ff4bbbbf-b693-4127-a3e6-3f9a992c7146",
    "colab": {
     "base_uri": "https://localhost:8080/",
     "height": 455
    },
    "ExecuteTime": {
     "start_time": "2023-04-02T12:53:25.926326Z",
     "end_time": "2023-04-02T12:53:26.048026Z"
    }
   },
   "id": "21kNoxgGkLH9"
  },
  {
   "cell_type": "markdown",
   "source": [
    "Preproccessing Data"
   ],
   "metadata": {
    "collapsed": false
   }
  },
  {
   "cell_type": "markdown",
   "source": [
    "1. Filtering Data"
   ],
   "metadata": {
    "collapsed": false
   }
  },
  {
   "cell_type": "code",
   "execution_count": 6,
   "outputs": [
    {
     "data": {
      "text/plain": "           Date      Open\nNo                       \n0    2017-09-06   6394.35\n1    2017-09-07   6402.94\n2    2017-09-08   6389.65\n3    2017-09-11   6411.18\n4    2017-09-12   6448.81\n...         ...       ...\n1372 2023-02-17  11777.50\n1373 2023-02-21  11640.37\n1374 2023-02-22  11517.20\n1375 2023-02-23  11636.93\n1376 2023-02-24  11404.18\n\n[1377 rows x 2 columns]",
      "text/html": "<div>\n<style scoped>\n    .dataframe tbody tr th:only-of-type {\n        vertical-align: middle;\n    }\n\n    .dataframe tbody tr th {\n        vertical-align: top;\n    }\n\n    .dataframe thead th {\n        text-align: right;\n    }\n</style>\n<table border=\"1\" class=\"dataframe\">\n  <thead>\n    <tr style=\"text-align: right;\">\n      <th></th>\n      <th>Date</th>\n      <th>Open</th>\n    </tr>\n    <tr>\n      <th>No</th>\n      <th></th>\n      <th></th>\n    </tr>\n  </thead>\n  <tbody>\n    <tr>\n      <th>0</th>\n      <td>2017-09-06</td>\n      <td>6394.35</td>\n    </tr>\n    <tr>\n      <th>1</th>\n      <td>2017-09-07</td>\n      <td>6402.94</td>\n    </tr>\n    <tr>\n      <th>2</th>\n      <td>2017-09-08</td>\n      <td>6389.65</td>\n    </tr>\n    <tr>\n      <th>3</th>\n      <td>2017-09-11</td>\n      <td>6411.18</td>\n    </tr>\n    <tr>\n      <th>4</th>\n      <td>2017-09-12</td>\n      <td>6448.81</td>\n    </tr>\n    <tr>\n      <th>...</th>\n      <td>...</td>\n      <td>...</td>\n    </tr>\n    <tr>\n      <th>1372</th>\n      <td>2023-02-17</td>\n      <td>11777.50</td>\n    </tr>\n    <tr>\n      <th>1373</th>\n      <td>2023-02-21</td>\n      <td>11640.37</td>\n    </tr>\n    <tr>\n      <th>1374</th>\n      <td>2023-02-22</td>\n      <td>11517.20</td>\n    </tr>\n    <tr>\n      <th>1375</th>\n      <td>2023-02-23</td>\n      <td>11636.93</td>\n    </tr>\n    <tr>\n      <th>1376</th>\n      <td>2023-02-24</td>\n      <td>11404.18</td>\n    </tr>\n  </tbody>\n</table>\n<p>1377 rows × 2 columns</p>\n</div>"
     },
     "execution_count": 6,
     "metadata": {},
     "output_type": "execute_result"
    }
   ],
   "source": [
    "dataset=dataset.drop(['Price', 'High', 'Low', 'Vol.', \"Change %\"], axis=1)\n",
    "dataset[\"Date\"] = pd.to_datetime(dataset['Date'])\n",
    "dataset['Open']= dataset['Open'].str.replace(',', '')\n",
    "dataset"
   ],
   "metadata": {
    "collapsed": false,
    "ExecuteTime": {
     "start_time": "2023-04-02T12:53:26.047027Z",
     "end_time": "2023-04-02T12:53:26.392733Z"
    }
   }
  },
  {
   "cell_type": "markdown",
   "source": [
    "2. Filling Missing Value"
   ],
   "metadata": {
    "collapsed": false
   }
  },
  {
   "cell_type": "code",
   "execution_count": 6,
   "outputs": [],
   "source": [],
   "metadata": {
    "collapsed": false,
    "ExecuteTime": {
     "start_time": "2023-04-02T12:53:26.256359Z",
     "end_time": "2023-04-02T12:53:26.453569Z"
    }
   }
  },
  {
   "cell_type": "markdown",
   "source": [
    "3. Reshape Data"
   ],
   "metadata": {
    "collapsed": false
   }
  },
  {
   "cell_type": "code",
   "execution_count": 6,
   "outputs": [],
   "source": [],
   "metadata": {
    "collapsed": false,
    "ExecuteTime": {
     "start_time": "2023-04-02T12:53:26.273546Z",
     "end_time": "2023-04-02T12:53:26.457558Z"
    }
   }
  },
  {
   "cell_type": "markdown",
   "source": [
    "4. Normalization Data"
   ],
   "metadata": {
    "collapsed": false
   }
  },
  {
   "cell_type": "code",
   "execution_count": 6,
   "outputs": [],
   "source": [],
   "metadata": {
    "collapsed": false,
    "ExecuteTime": {
     "start_time": "2023-04-02T12:53:26.291688Z",
     "end_time": "2023-04-02T12:53:26.460551Z"
    }
   }
  },
  {
   "cell_type": "markdown",
   "source": [
    "5. Split Data"
   ],
   "metadata": {
    "collapsed": false
   }
  },
  {
   "cell_type": "code",
   "execution_count": 6,
   "outputs": [],
   "source": [],
   "metadata": {
    "collapsed": false,
    "ExecuteTime": {
     "start_time": "2023-04-02T12:53:26.304816Z",
     "end_time": "2023-04-02T12:53:26.461548Z"
    }
   }
  },
  {
   "cell_type": "markdown",
   "source": [
    "6. Create Data Train"
   ],
   "metadata": {
    "collapsed": false
   }
  },
  {
   "cell_type": "code",
   "execution_count": 6,
   "outputs": [],
   "source": [],
   "metadata": {
    "collapsed": false,
    "ExecuteTime": {
     "start_time": "2023-04-02T12:53:26.319898Z",
     "end_time": "2023-04-02T12:53:26.462546Z"
    }
   }
  },
  {
   "cell_type": "markdown",
   "source": [
    "7. Ekstraksi Fitur dengan CNN"
   ],
   "metadata": {
    "collapsed": false
   }
  },
  {
   "cell_type": "code",
   "execution_count": 6,
   "outputs": [],
   "source": [],
   "metadata": {
    "collapsed": false,
    "ExecuteTime": {
     "start_time": "2023-04-02T12:53:26.335035Z",
     "end_time": "2023-04-02T12:53:26.470524Z"
    }
   }
  },
  {
   "cell_type": "markdown",
   "source": [
    "8. Flattening Feature Map"
   ],
   "metadata": {
    "collapsed": false
   }
  },
  {
   "cell_type": "code",
   "execution_count": 6,
   "outputs": [],
   "source": [],
   "metadata": {
    "collapsed": false,
    "ExecuteTime": {
     "start_time": "2023-04-02T12:53:26.354834Z",
     "end_time": "2023-04-02T12:53:26.609902Z"
    }
   }
  },
  {
   "cell_type": "markdown",
   "source": [
    "Split Dataset into 3 range time different"
   ],
   "metadata": {
    "collapsed": false,
    "id": "pN2xRiBHkLH-"
   },
   "id": "pN2xRiBHkLH-"
  },
  {
   "cell_type": "code",
   "execution_count": 7,
   "outputs": [],
   "source": [
    "data_before_pandemic=dataset[dataset[\"Date\"] < \"3/11/2020\"]\n",
    "data_while_pandemic=dataset[(dataset[\"Date\"] >= \"3/11/2020\") & (dataset[\"Date\"] <= \"9/13/2022\")]\n",
    "data_after_pandemic=dataset[dataset[\"Date\"] > \"9/13/2022\"]"
   ],
   "metadata": {
    "id": "EUwhMGNckLH-",
    "ExecuteTime": {
     "start_time": "2023-04-02T12:53:26.408689Z",
     "end_time": "2023-04-02T12:53:26.615885Z"
    }
   },
   "id": "EUwhMGNckLH-"
  },
  {
   "cell_type": "markdown",
   "source": [
    "#Dataset before pandemic"
   ],
   "metadata": {
    "collapsed": false,
    "id": "NcAMmQHnkLH-"
   },
   "id": "NcAMmQHnkLH-"
  },
  {
   "cell_type": "code",
   "execution_count": 8,
   "outputs": [
    {
     "data": {
      "text/plain": "          Date     Open\nNo                     \n0   2017-09-06  6394.35\n1   2017-09-07  6402.94\n2   2017-09-08  6389.65\n3   2017-09-11  6411.18\n4   2017-09-12  6448.81\n..         ...      ...\n626 2020-03-04  8834.10\n627 2020-03-05  8790.09\n628 2020-03-06  8469.01\n629 2020-03-09  7957.93\n630 2020-03-10  8219.76\n\n[631 rows x 2 columns]",
      "text/html": "<div>\n<style scoped>\n    .dataframe tbody tr th:only-of-type {\n        vertical-align: middle;\n    }\n\n    .dataframe tbody tr th {\n        vertical-align: top;\n    }\n\n    .dataframe thead th {\n        text-align: right;\n    }\n</style>\n<table border=\"1\" class=\"dataframe\">\n  <thead>\n    <tr style=\"text-align: right;\">\n      <th></th>\n      <th>Date</th>\n      <th>Open</th>\n    </tr>\n    <tr>\n      <th>No</th>\n      <th></th>\n      <th></th>\n    </tr>\n  </thead>\n  <tbody>\n    <tr>\n      <th>0</th>\n      <td>2017-09-06</td>\n      <td>6394.35</td>\n    </tr>\n    <tr>\n      <th>1</th>\n      <td>2017-09-07</td>\n      <td>6402.94</td>\n    </tr>\n    <tr>\n      <th>2</th>\n      <td>2017-09-08</td>\n      <td>6389.65</td>\n    </tr>\n    <tr>\n      <th>3</th>\n      <td>2017-09-11</td>\n      <td>6411.18</td>\n    </tr>\n    <tr>\n      <th>4</th>\n      <td>2017-09-12</td>\n      <td>6448.81</td>\n    </tr>\n    <tr>\n      <th>...</th>\n      <td>...</td>\n      <td>...</td>\n    </tr>\n    <tr>\n      <th>626</th>\n      <td>2020-03-04</td>\n      <td>8834.10</td>\n    </tr>\n    <tr>\n      <th>627</th>\n      <td>2020-03-05</td>\n      <td>8790.09</td>\n    </tr>\n    <tr>\n      <th>628</th>\n      <td>2020-03-06</td>\n      <td>8469.01</td>\n    </tr>\n    <tr>\n      <th>629</th>\n      <td>2020-03-09</td>\n      <td>7957.93</td>\n    </tr>\n    <tr>\n      <th>630</th>\n      <td>2020-03-10</td>\n      <td>8219.76</td>\n    </tr>\n  </tbody>\n</table>\n<p>631 rows × 2 columns</p>\n</div>"
     },
     "execution_count": 8,
     "metadata": {},
     "output_type": "execute_result"
    }
   ],
   "source": [
    "data_before_pandemic"
   ],
   "metadata": {
    "id": "xNXWhGAgkLH-",
    "outputId": "1ca3618a-c589-4b1f-ed1c-40dadf85bd5e",
    "colab": {
     "base_uri": "https://localhost:8080/",
     "height": 455
    },
    "ExecuteTime": {
     "start_time": "2023-04-02T12:53:26.439607Z",
     "end_time": "2023-04-02T12:53:26.628909Z"
    }
   },
   "id": "xNXWhGAgkLH-"
  },
  {
   "cell_type": "markdown",
   "source": [
    "#Dataset while pandemic"
   ],
   "metadata": {
    "collapsed": false,
    "id": "Kr96EAT2kLH-"
   },
   "id": "Kr96EAT2kLH-"
  },
  {
   "cell_type": "code",
   "execution_count": 9,
   "outputs": [
    {
     "data": {
      "text/plain": "           Date      Open\nNo                       \n631  2020-03-11   8136.25\n632  2020-03-12   7398.58\n633  2020-03-13   7610.39\n634  2020-03-16   7392.73\n635  2020-03-17   6904.59\n...         ...       ...\n1259 2022-09-07  11559.38\n1260 2022-09-08  11679.86\n1261 2022-09-09  11958.61\n1262 2022-09-12  12174.94\n1263 2022-09-13  11908.81\n\n[633 rows x 2 columns]",
      "text/html": "<div>\n<style scoped>\n    .dataframe tbody tr th:only-of-type {\n        vertical-align: middle;\n    }\n\n    .dataframe tbody tr th {\n        vertical-align: top;\n    }\n\n    .dataframe thead th {\n        text-align: right;\n    }\n</style>\n<table border=\"1\" class=\"dataframe\">\n  <thead>\n    <tr style=\"text-align: right;\">\n      <th></th>\n      <th>Date</th>\n      <th>Open</th>\n    </tr>\n    <tr>\n      <th>No</th>\n      <th></th>\n      <th></th>\n    </tr>\n  </thead>\n  <tbody>\n    <tr>\n      <th>631</th>\n      <td>2020-03-11</td>\n      <td>8136.25</td>\n    </tr>\n    <tr>\n      <th>632</th>\n      <td>2020-03-12</td>\n      <td>7398.58</td>\n    </tr>\n    <tr>\n      <th>633</th>\n      <td>2020-03-13</td>\n      <td>7610.39</td>\n    </tr>\n    <tr>\n      <th>634</th>\n      <td>2020-03-16</td>\n      <td>7392.73</td>\n    </tr>\n    <tr>\n      <th>635</th>\n      <td>2020-03-17</td>\n      <td>6904.59</td>\n    </tr>\n    <tr>\n      <th>...</th>\n      <td>...</td>\n      <td>...</td>\n    </tr>\n    <tr>\n      <th>1259</th>\n      <td>2022-09-07</td>\n      <td>11559.38</td>\n    </tr>\n    <tr>\n      <th>1260</th>\n      <td>2022-09-08</td>\n      <td>11679.86</td>\n    </tr>\n    <tr>\n      <th>1261</th>\n      <td>2022-09-09</td>\n      <td>11958.61</td>\n    </tr>\n    <tr>\n      <th>1262</th>\n      <td>2022-09-12</td>\n      <td>12174.94</td>\n    </tr>\n    <tr>\n      <th>1263</th>\n      <td>2022-09-13</td>\n      <td>11908.81</td>\n    </tr>\n  </tbody>\n</table>\n<p>633 rows × 2 columns</p>\n</div>"
     },
     "execution_count": 9,
     "metadata": {},
     "output_type": "execute_result"
    }
   ],
   "source": [
    "data_while_pandemic"
   ],
   "metadata": {
    "id": "N9mkAcgMkLH-",
    "outputId": "3a7be575-1dba-4f66-b3ce-ced292a6086d",
    "colab": {
     "base_uri": "https://localhost:8080/",
     "height": 455
    },
    "ExecuteTime": {
     "start_time": "2023-04-02T12:53:26.445591Z",
     "end_time": "2023-04-02T12:53:26.646934Z"
    }
   },
   "id": "N9mkAcgMkLH-"
  },
  {
   "cell_type": "markdown",
   "source": [
    "#Dataset after pandemic"
   ],
   "metadata": {
    "collapsed": false,
    "id": "qTof8qs3kLH_"
   },
   "id": "qTof8qs3kLH_"
  },
  {
   "cell_type": "code",
   "execution_count": 10,
   "outputs": [
    {
     "data": {
      "text/plain": "           Date      Open\nNo                       \n1264 2022-09-14  11680.41\n1265 2022-09-15  11633.24\n1266 2022-09-16  11401.21\n1267 2022-09-19  11338.57\n1268 2022-09-20  11440.14\n...         ...       ...\n1372 2023-02-17  11777.50\n1373 2023-02-21  11640.37\n1374 2023-02-22  11517.20\n1375 2023-02-23  11636.93\n1376 2023-02-24  11404.18\n\n[113 rows x 2 columns]",
      "text/html": "<div>\n<style scoped>\n    .dataframe tbody tr th:only-of-type {\n        vertical-align: middle;\n    }\n\n    .dataframe tbody tr th {\n        vertical-align: top;\n    }\n\n    .dataframe thead th {\n        text-align: right;\n    }\n</style>\n<table border=\"1\" class=\"dataframe\">\n  <thead>\n    <tr style=\"text-align: right;\">\n      <th></th>\n      <th>Date</th>\n      <th>Open</th>\n    </tr>\n    <tr>\n      <th>No</th>\n      <th></th>\n      <th></th>\n    </tr>\n  </thead>\n  <tbody>\n    <tr>\n      <th>1264</th>\n      <td>2022-09-14</td>\n      <td>11680.41</td>\n    </tr>\n    <tr>\n      <th>1265</th>\n      <td>2022-09-15</td>\n      <td>11633.24</td>\n    </tr>\n    <tr>\n      <th>1266</th>\n      <td>2022-09-16</td>\n      <td>11401.21</td>\n    </tr>\n    <tr>\n      <th>1267</th>\n      <td>2022-09-19</td>\n      <td>11338.57</td>\n    </tr>\n    <tr>\n      <th>1268</th>\n      <td>2022-09-20</td>\n      <td>11440.14</td>\n    </tr>\n    <tr>\n      <th>...</th>\n      <td>...</td>\n      <td>...</td>\n    </tr>\n    <tr>\n      <th>1372</th>\n      <td>2023-02-17</td>\n      <td>11777.50</td>\n    </tr>\n    <tr>\n      <th>1373</th>\n      <td>2023-02-21</td>\n      <td>11640.37</td>\n    </tr>\n    <tr>\n      <th>1374</th>\n      <td>2023-02-22</td>\n      <td>11517.20</td>\n    </tr>\n    <tr>\n      <th>1375</th>\n      <td>2023-02-23</td>\n      <td>11636.93</td>\n    </tr>\n    <tr>\n      <th>1376</th>\n      <td>2023-02-24</td>\n      <td>11404.18</td>\n    </tr>\n  </tbody>\n</table>\n<p>113 rows × 2 columns</p>\n</div>"
     },
     "execution_count": 10,
     "metadata": {},
     "output_type": "execute_result"
    }
   ],
   "source": [
    "data_after_pandemic"
   ],
   "metadata": {
    "id": "gtFezW9DkLH_",
    "outputId": "835b728a-bcd5-4fa0-936c-38cc29eb30da",
    "colab": {
     "base_uri": "https://localhost:8080/",
     "height": 455
    },
    "ExecuteTime": {
     "start_time": "2023-04-02T12:53:26.508423Z",
     "end_time": "2023-04-02T12:53:26.701928Z"
    }
   },
   "id": "gtFezW9DkLH_"
  },
  {
   "cell_type": "markdown",
   "id": "9eca784b",
   "metadata": {
    "id": "9eca784b"
   },
   "source": [
    "Normalize Dataset"
   ]
  },
  {
   "cell_type": "code",
   "execution_count": 11,
   "id": "f1872432",
   "metadata": {
    "id": "f1872432",
    "ExecuteTime": {
     "start_time": "2023-04-02T12:53:26.564497Z",
     "end_time": "2023-04-02T12:53:27.699276Z"
    }
   },
   "outputs": [],
   "source": [
    "from sklearn.preprocessing import MinMaxScaler\n",
    "scaler = MinMaxScaler(feature_range=(0, 1))\n",
    "dataset['Date'] = pd.to_numeric(pd.to_datetime(dataset['Date']))\n",
    "dataset[\"Open\"] = pd.to_numeric(dataset[\"Open\"])\n",
    "dataset= scaler.fit_transform(dataset)\n"
   ]
  },
  {
   "cell_type": "code",
   "execution_count": 11,
   "outputs": [],
   "source": [],
   "metadata": {
    "id": "NmSb6pm0kLH_",
    "ExecuteTime": {
     "start_time": "2023-04-02T12:53:27.691297Z",
     "end_time": "2023-04-02T12:53:27.714236Z"
    }
   },
   "id": "NmSb6pm0kLH_"
  },
  {
   "cell_type": "markdown",
   "id": "224c2a89",
   "metadata": {
    "id": "224c2a89"
   },
   "source": [
    "Split Dataset Into Train and Test Sets"
   ]
  },
  {
   "cell_type": "code",
   "execution_count": 12,
   "id": "15f5689b",
   "metadata": {
    "id": "15f5689b",
    "ExecuteTime": {
     "start_time": "2023-04-02T12:53:27.708252Z",
     "end_time": "2023-04-02T12:53:27.748565Z"
    }
   },
   "outputs": [],
   "source": [
    "train_size = int(len(dataset) * 0.8)\n",
    "test_size = len(dataset) - train_size\n",
    "train, test = dataset[0:train_size,:], dataset[train_size:len(dataset),:]"
   ]
  },
  {
   "cell_type": "markdown",
   "id": "a5944f16",
   "metadata": {
    "id": "a5944f16"
   },
   "source": [
    "Define a function to create a dataset with look back"
   ]
  },
  {
   "cell_type": "code",
   "execution_count": 13,
   "id": "98a09d93",
   "metadata": {
    "id": "98a09d93",
    "ExecuteTime": {
     "start_time": "2023-04-02T12:53:27.731475Z",
     "end_time": "2023-04-02T12:53:27.748565Z"
    }
   },
   "outputs": [],
   "source": [
    "def create_dataset(dataset, look_back=1):\n",
    "    dataX, dataY = [], []\n",
    "    for i in range(len(dataset)-look_back-1):\n",
    "        a = dataset[i:(i+look_back), 0]\n",
    "        dataX.append(a)\n",
    "        dataY.append(dataset[i + look_back, 0])\n",
    "    return np.array(dataX), np.array(dataY)"
   ]
  },
  {
   "cell_type": "markdown",
   "id": "b09b68c9",
   "metadata": {
    "id": "b09b68c9"
   },
   "source": [
    "Reshape dataset into X=t and Y=t+1"
   ]
  },
  {
   "cell_type": "code",
   "execution_count": 14,
   "id": "715df853",
   "metadata": {
    "id": "715df853",
    "ExecuteTime": {
     "start_time": "2023-04-02T12:53:27.745574Z",
     "end_time": "2023-04-02T12:53:27.800426Z"
    }
   },
   "outputs": [],
   "source": [
    "look_back = 3\n",
    "trainX, trainY = create_dataset(train, look_back)\n",
    "testX, testY = create_dataset(test, look_back)"
   ]
  },
  {
   "cell_type": "markdown",
   "id": "7b780ced",
   "metadata": {
    "id": "7b780ced"
   },
   "source": [
    "Reshape input to be [samples, time steps, features]"
   ]
  },
  {
   "cell_type": "code",
   "execution_count": 15,
   "id": "4a291b7f",
   "metadata": {
    "id": "4a291b7f",
    "ExecuteTime": {
     "start_time": "2023-04-02T12:53:27.797435Z",
     "end_time": "2023-04-02T12:53:27.855225Z"
    }
   },
   "outputs": [],
   "source": [
    "trainX = np.reshape(trainX, (trainX.shape[0], trainX.shape[1], 1))\n",
    "testX = np.reshape(testX, (testX.shape[0], testX.shape[1], 1))"
   ]
  },
  {
   "cell_type": "markdown",
   "id": "cb2ec634",
   "metadata": {
    "id": "cb2ec634"
   },
   "source": [
    "Create and Fit the CNN-LSTM model"
   ]
  },
  {
   "cell_type": "code",
   "execution_count": 16,
   "id": "77d47e96",
   "metadata": {
    "id": "77d47e96",
    "outputId": "c81ad5ec-e01e-48dc-def6-dba9ed7f3939",
    "colab": {
     "base_uri": "https://localhost:8080/"
    },
    "ExecuteTime": {
     "start_time": "2023-04-02T12:53:27.841136Z",
     "end_time": "2023-04-02T12:53:45.077632Z"
    }
   },
   "outputs": [
    {
     "name": "stdout",
     "output_type": "stream",
     "text": [
      "Epoch 1/100\n",
      "18/18 - 6s - loss: 0.1147 - 6s/epoch - 354ms/step\n",
      "Epoch 2/100\n",
      "18/18 - 0s - loss: 0.0116 - 90ms/epoch - 5ms/step\n",
      "Epoch 3/100\n",
      "18/18 - 0s - loss: 0.0059 - 102ms/epoch - 6ms/step\n",
      "Epoch 4/100\n",
      "18/18 - 0s - loss: 0.0031 - 122ms/epoch - 7ms/step\n",
      "Epoch 5/100\n",
      "18/18 - 0s - loss: 0.0024 - 99ms/epoch - 5ms/step\n",
      "Epoch 6/100\n",
      "18/18 - 0s - loss: 0.0022 - 106ms/epoch - 6ms/step\n",
      "Epoch 7/100\n",
      "18/18 - 0s - loss: 0.0019 - 68ms/epoch - 4ms/step\n",
      "Epoch 8/100\n",
      "18/18 - 0s - loss: 0.0017 - 70ms/epoch - 4ms/step\n",
      "Epoch 9/100\n",
      "18/18 - 0s - loss: 0.0017 - 69ms/epoch - 4ms/step\n",
      "Epoch 10/100\n",
      "18/18 - 0s - loss: 0.0016 - 79ms/epoch - 4ms/step\n",
      "Epoch 11/100\n",
      "18/18 - 0s - loss: 0.0016 - 112ms/epoch - 6ms/step\n",
      "Epoch 12/100\n",
      "18/18 - 0s - loss: 0.0016 - 103ms/epoch - 6ms/step\n",
      "Epoch 13/100\n",
      "18/18 - 0s - loss: 0.0016 - 103ms/epoch - 6ms/step\n",
      "Epoch 14/100\n",
      "18/18 - 0s - loss: 0.0014 - 123ms/epoch - 7ms/step\n",
      "Epoch 15/100\n",
      "18/18 - 0s - loss: 0.0015 - 117ms/epoch - 6ms/step\n",
      "Epoch 16/100\n",
      "18/18 - 0s - loss: 0.0014 - 90ms/epoch - 5ms/step\n",
      "Epoch 17/100\n",
      "18/18 - 0s - loss: 0.0014 - 115ms/epoch - 6ms/step\n",
      "Epoch 18/100\n",
      "18/18 - 0s - loss: 0.0014 - 111ms/epoch - 6ms/step\n",
      "Epoch 19/100\n",
      "18/18 - 0s - loss: 0.0014 - 110ms/epoch - 6ms/step\n",
      "Epoch 20/100\n",
      "18/18 - 0s - loss: 0.0014 - 92ms/epoch - 5ms/step\n",
      "Epoch 21/100\n",
      "18/18 - 0s - loss: 0.0014 - 88ms/epoch - 5ms/step\n",
      "Epoch 22/100\n",
      "18/18 - 0s - loss: 0.0011 - 69ms/epoch - 4ms/step\n",
      "Epoch 23/100\n",
      "18/18 - 0s - loss: 0.0012 - 83ms/epoch - 5ms/step\n",
      "Epoch 24/100\n",
      "18/18 - 0s - loss: 0.0012 - 82ms/epoch - 5ms/step\n",
      "Epoch 25/100\n",
      "18/18 - 0s - loss: 0.0012 - 112ms/epoch - 6ms/step\n",
      "Epoch 26/100\n",
      "18/18 - 0s - loss: 0.0012 - 111ms/epoch - 6ms/step\n",
      "Epoch 27/100\n",
      "18/18 - 0s - loss: 0.0010 - 123ms/epoch - 7ms/step\n",
      "Epoch 28/100\n",
      "18/18 - 0s - loss: 0.0012 - 111ms/epoch - 6ms/step\n",
      "Epoch 29/100\n",
      "18/18 - 0s - loss: 0.0012 - 79ms/epoch - 4ms/step\n",
      "Epoch 30/100\n",
      "18/18 - 0s - loss: 0.0012 - 91ms/epoch - 5ms/step\n",
      "Epoch 31/100\n",
      "18/18 - 0s - loss: 0.0011 - 79ms/epoch - 4ms/step\n",
      "Epoch 32/100\n",
      "18/18 - 0s - loss: 0.0012 - 62ms/epoch - 3ms/step\n",
      "Epoch 33/100\n",
      "18/18 - 0s - loss: 0.0010 - 95ms/epoch - 5ms/step\n",
      "Epoch 34/100\n",
      "18/18 - 0s - loss: 0.0011 - 83ms/epoch - 5ms/step\n",
      "Epoch 35/100\n",
      "18/18 - 0s - loss: 0.0011 - 84ms/epoch - 5ms/step\n",
      "Epoch 36/100\n",
      "18/18 - 0s - loss: 0.0011 - 83ms/epoch - 5ms/step\n",
      "Epoch 37/100\n",
      "18/18 - 0s - loss: 0.0011 - 77ms/epoch - 4ms/step\n",
      "Epoch 38/100\n",
      "18/18 - 0s - loss: 9.8089e-04 - 86ms/epoch - 5ms/step\n",
      "Epoch 39/100\n",
      "18/18 - 0s - loss: 0.0011 - 71ms/epoch - 4ms/step\n",
      "Epoch 40/100\n",
      "18/18 - 0s - loss: 0.0011 - 49ms/epoch - 3ms/step\n",
      "Epoch 41/100\n",
      "18/18 - 0s - loss: 0.0010 - 58ms/epoch - 3ms/step\n",
      "Epoch 42/100\n",
      "18/18 - 0s - loss: 9.6957e-04 - 57ms/epoch - 3ms/step\n",
      "Epoch 43/100\n",
      "18/18 - 0s - loss: 9.8045e-04 - 77ms/epoch - 4ms/step\n",
      "Epoch 44/100\n",
      "18/18 - 0s - loss: 8.9242e-04 - 72ms/epoch - 4ms/step\n",
      "Epoch 45/100\n",
      "18/18 - 0s - loss: 0.0010 - 47ms/epoch - 3ms/step\n",
      "Epoch 46/100\n",
      "18/18 - 0s - loss: 9.8365e-04 - 41ms/epoch - 2ms/step\n",
      "Epoch 47/100\n",
      "18/18 - 0s - loss: 9.1054e-04 - 36ms/epoch - 2ms/step\n",
      "Epoch 48/100\n",
      "18/18 - 0s - loss: 8.1047e-04 - 41ms/epoch - 2ms/step\n",
      "Epoch 49/100\n",
      "18/18 - 0s - loss: 0.0010 - 41ms/epoch - 2ms/step\n",
      "Epoch 50/100\n",
      "18/18 - 0s - loss: 8.7972e-04 - 41ms/epoch - 2ms/step\n",
      "Epoch 51/100\n",
      "18/18 - 0s - loss: 9.1253e-04 - 50ms/epoch - 3ms/step\n",
      "Epoch 52/100\n",
      "18/18 - 0s - loss: 9.9195e-04 - 86ms/epoch - 5ms/step\n",
      "Epoch 53/100\n",
      "18/18 - 0s - loss: 9.3974e-04 - 55ms/epoch - 3ms/step\n",
      "Epoch 54/100\n",
      "18/18 - 0s - loss: 9.4215e-04 - 86ms/epoch - 5ms/step\n",
      "Epoch 55/100\n",
      "18/18 - 0s - loss: 8.5972e-04 - 82ms/epoch - 5ms/step\n",
      "Epoch 56/100\n",
      "18/18 - 0s - loss: 8.8186e-04 - 64ms/epoch - 4ms/step\n",
      "Epoch 57/100\n",
      "18/18 - 0s - loss: 8.8095e-04 - 81ms/epoch - 4ms/step\n",
      "Epoch 58/100\n",
      "18/18 - 0s - loss: 9.4639e-04 - 70ms/epoch - 4ms/step\n",
      "Epoch 59/100\n",
      "18/18 - 0s - loss: 8.9390e-04 - 72ms/epoch - 4ms/step\n",
      "Epoch 60/100\n",
      "18/18 - 0s - loss: 8.5517e-04 - 89ms/epoch - 5ms/step\n",
      "Epoch 61/100\n",
      "18/18 - 0s - loss: 8.0125e-04 - 67ms/epoch - 4ms/step\n",
      "Epoch 62/100\n",
      "18/18 - 0s - loss: 8.3785e-04 - 58ms/epoch - 3ms/step\n",
      "Epoch 63/100\n",
      "18/18 - 0s - loss: 8.7321e-04 - 85ms/epoch - 5ms/step\n",
      "Epoch 64/100\n",
      "18/18 - 0s - loss: 8.2969e-04 - 61ms/epoch - 3ms/step\n",
      "Epoch 65/100\n",
      "18/18 - 0s - loss: 8.8219e-04 - 95ms/epoch - 5ms/step\n",
      "Epoch 66/100\n",
      "18/18 - 0s - loss: 8.5494e-04 - 84ms/epoch - 5ms/step\n",
      "Epoch 67/100\n",
      "18/18 - 0s - loss: 7.7540e-04 - 106ms/epoch - 6ms/step\n",
      "Epoch 68/100\n",
      "18/18 - 0s - loss: 8.4719e-04 - 130ms/epoch - 7ms/step\n",
      "Epoch 69/100\n",
      "18/18 - 0s - loss: 8.0580e-04 - 88ms/epoch - 5ms/step\n",
      "Epoch 70/100\n",
      "18/18 - 0s - loss: 8.8567e-04 - 76ms/epoch - 4ms/step\n",
      "Epoch 71/100\n",
      "18/18 - 0s - loss: 8.4251e-04 - 66ms/epoch - 4ms/step\n",
      "Epoch 72/100\n",
      "18/18 - 0s - loss: 7.6856e-04 - 97ms/epoch - 5ms/step\n",
      "Epoch 73/100\n",
      "18/18 - 0s - loss: 8.3784e-04 - 66ms/epoch - 4ms/step\n",
      "Epoch 74/100\n",
      "18/18 - 0s - loss: 7.4775e-04 - 64ms/epoch - 4ms/step\n",
      "Epoch 75/100\n",
      "18/18 - 0s - loss: 7.2415e-04 - 50ms/epoch - 3ms/step\n",
      "Epoch 76/100\n",
      "18/18 - 0s - loss: 7.5189e-04 - 70ms/epoch - 4ms/step\n",
      "Epoch 77/100\n",
      "18/18 - 0s - loss: 7.4153e-04 - 97ms/epoch - 5ms/step\n",
      "Epoch 78/100\n",
      "18/18 - 0s - loss: 7.0409e-04 - 68ms/epoch - 4ms/step\n",
      "Epoch 79/100\n",
      "18/18 - 0s - loss: 7.8900e-04 - 96ms/epoch - 5ms/step\n",
      "Epoch 80/100\n",
      "18/18 - 0s - loss: 7.7393e-04 - 88ms/epoch - 5ms/step\n",
      "Epoch 81/100\n",
      "18/18 - 0s - loss: 7.1102e-04 - 61ms/epoch - 3ms/step\n",
      "Epoch 82/100\n",
      "18/18 - 0s - loss: 7.5792e-04 - 81ms/epoch - 4ms/step\n",
      "Epoch 83/100\n",
      "18/18 - 0s - loss: 7.1753e-04 - 78ms/epoch - 4ms/step\n",
      "Epoch 84/100\n",
      "18/18 - 0s - loss: 6.7060e-04 - 91ms/epoch - 5ms/step\n",
      "Epoch 85/100\n",
      "18/18 - 0s - loss: 7.3170e-04 - 66ms/epoch - 4ms/step\n",
      "Epoch 86/100\n",
      "18/18 - 0s - loss: 7.1741e-04 - 80ms/epoch - 4ms/step\n",
      "Epoch 87/100\n",
      "18/18 - 0s - loss: 7.7325e-04 - 84ms/epoch - 5ms/step\n",
      "Epoch 88/100\n",
      "18/18 - 0s - loss: 7.0018e-04 - 74ms/epoch - 4ms/step\n",
      "Epoch 89/100\n",
      "18/18 - 0s - loss: 7.1766e-04 - 84ms/epoch - 5ms/step\n",
      "Epoch 90/100\n",
      "18/18 - 0s - loss: 6.4845e-04 - 67ms/epoch - 4ms/step\n",
      "Epoch 91/100\n",
      "18/18 - 0s - loss: 6.6888e-04 - 92ms/epoch - 5ms/step\n",
      "Epoch 92/100\n",
      "18/18 - 0s - loss: 7.0778e-04 - 72ms/epoch - 4ms/step\n",
      "Epoch 93/100\n",
      "18/18 - 0s - loss: 6.6644e-04 - 74ms/epoch - 4ms/step\n",
      "Epoch 94/100\n",
      "18/18 - 0s - loss: 6.2292e-04 - 69ms/epoch - 4ms/step\n",
      "Epoch 95/100\n",
      "18/18 - 0s - loss: 6.9153e-04 - 96ms/epoch - 5ms/step\n",
      "Epoch 96/100\n",
      "18/18 - 0s - loss: 6.7731e-04 - 94ms/epoch - 5ms/step\n",
      "Epoch 97/100\n",
      "18/18 - 0s - loss: 6.7825e-04 - 95ms/epoch - 5ms/step\n",
      "Epoch 98/100\n",
      "18/18 - 0s - loss: 6.8392e-04 - 72ms/epoch - 4ms/step\n",
      "Epoch 99/100\n",
      "18/18 - 0s - loss: 7.1711e-04 - 77ms/epoch - 4ms/step\n",
      "Epoch 100/100\n",
      "18/18 - 0s - loss: 6.3820e-04 - 67ms/epoch - 4ms/step\n"
     ]
    },
    {
     "data": {
      "text/plain": "<keras.callbacks.History at 0x1d24ea5ceb0>"
     },
     "execution_count": 16,
     "metadata": {},
     "output_type": "execute_result"
    }
   ],
   "source": [
    "model = Sequential()\n",
    "model.add(Conv1D(filters=64, kernel_size=2, activation='relu', input_shape=(look_back, 1)))\n",
    "model.add(MaxPooling1D(pool_size=2))\n",
    "model.add(Dropout(0.2))\n",
    "model.add(LSTM(100))\n",
    "model.add(Dense(1))\n",
    "model.compile(loss='mean_squared_error', optimizer='adam')\n",
    "model.fit(trainX, trainY, epochs=100, batch_size=64, verbose=2)"
   ]
  },
  {
   "cell_type": "markdown",
   "id": "e0c7aa23",
   "metadata": {
    "id": "e0c7aa23"
   },
   "source": [
    "Make predictions"
   ]
  },
  {
   "cell_type": "code",
   "execution_count": 17,
   "id": "eeb296be",
   "metadata": {
    "id": "eeb296be",
    "outputId": "3b7bea78-f2ac-44d3-c863-40f2ae4acc87",
    "colab": {
     "base_uri": "https://localhost:8080/"
    },
    "ExecuteTime": {
     "start_time": "2023-04-02T12:53:45.001700Z",
     "end_time": "2023-04-02T12:53:46.583982Z"
    }
   },
   "outputs": [],
   "source": [
    "trainPredict = model.predict(trainX)\n",
    "testPredict = model.predict(testX)\n",
    "trainPredictPlot = np.empty_like(dataset)\n",
    "trainPredictPlot[:, :] = np.nan\n",
    "trainPredictPlot[look_back:len(trainPredict)+look_back, :] = trainPredict\n",
    "testPredictPlot = np.empty_like(dataset)\n",
    "testPredictPlot[:, :] = np.nan\n",
    "testPredictPlot[len(trainPredict)+(look_back*2)+1:len(dataset)-1, :] = testPredict\n"
   ]
  },
  {
   "cell_type": "markdown",
   "id": "403c097f",
   "metadata": {
    "id": "403c097f"
   },
   "source": [
    "Invert predictions back to original scale"
   ]
  },
  {
   "cell_type": "code",
   "execution_count": 18,
   "id": "2bc57214",
   "metadata": {
    "id": "2bc57214",
    "outputId": "039eb5df-fef1-4904-d5cc-ccfbb806ae6e",
    "colab": {
     "base_uri": "https://localhost:8080/",
     "height": 340
    }
   },
   "outputs": [
    {
     "ename": "ValueError",
     "evalue": "non-broadcastable output operand with shape (1097,1) doesn't match the broadcast shape (1097,2)",
     "output_type": "error",
     "traceback": [
      "\u001B[1;31m---------------------------------------------------------------------------\u001B[0m",
      "\u001B[1;31mValueError\u001B[0m                                Traceback (most recent call last)",
      "\u001B[1;32m~\\AppData\\Local\\Temp/ipykernel_17132/511563412.py\u001B[0m in \u001B[0;36m<module>\u001B[1;34m\u001B[0m\n\u001B[1;32m----> 1\u001B[1;33m \u001B[0mtrainPredict\u001B[0m \u001B[1;33m=\u001B[0m \u001B[0mscaler\u001B[0m\u001B[1;33m.\u001B[0m\u001B[0minverse_transform\u001B[0m\u001B[1;33m(\u001B[0m\u001B[0mtrainPredict\u001B[0m\u001B[1;33m)\u001B[0m\u001B[1;33m\u001B[0m\u001B[1;33m\u001B[0m\u001B[0m\n\u001B[0m\u001B[0;32m      2\u001B[0m \u001B[0mtrainY\u001B[0m \u001B[1;33m=\u001B[0m \u001B[0mscaler\u001B[0m\u001B[1;33m.\u001B[0m\u001B[0minverse_transform\u001B[0m\u001B[1;33m(\u001B[0m\u001B[1;33m[\u001B[0m\u001B[0mtrainY\u001B[0m\u001B[1;33m]\u001B[0m\u001B[1;33m)\u001B[0m\u001B[1;33m\u001B[0m\u001B[1;33m\u001B[0m\u001B[0m\n\u001B[0;32m      3\u001B[0m \u001B[0mtestPredict\u001B[0m \u001B[1;33m=\u001B[0m \u001B[0mscaler\u001B[0m\u001B[1;33m.\u001B[0m\u001B[0minverse_transform\u001B[0m\u001B[1;33m(\u001B[0m\u001B[0mtestPredict\u001B[0m\u001B[1;33m)\u001B[0m\u001B[1;33m\u001B[0m\u001B[1;33m\u001B[0m\u001B[0m\n\u001B[0;32m      4\u001B[0m \u001B[0mtestY\u001B[0m \u001B[1;33m=\u001B[0m \u001B[0mscaler\u001B[0m\u001B[1;33m.\u001B[0m\u001B[0minverse_transform\u001B[0m\u001B[1;33m(\u001B[0m\u001B[1;33m[\u001B[0m\u001B[0mtestY\u001B[0m\u001B[1;33m]\u001B[0m\u001B[1;33m)\u001B[0m\u001B[1;33m\u001B[0m\u001B[1;33m\u001B[0m\u001B[0m\n\u001B[0;32m      5\u001B[0m \u001B[1;33m\u001B[0m\u001B[0m\n",
      "\u001B[1;32mC:\\ProgramData\\Anaconda3\\lib\\site-packages\\sklearn\\preprocessing\\_data.py\u001B[0m in \u001B[0;36minverse_transform\u001B[1;34m(self, X)\u001B[0m\n\u001B[0;32m    459\u001B[0m                         force_all_finite=\"allow-nan\")\n\u001B[0;32m    460\u001B[0m \u001B[1;33m\u001B[0m\u001B[0m\n\u001B[1;32m--> 461\u001B[1;33m         \u001B[0mX\u001B[0m \u001B[1;33m-=\u001B[0m \u001B[0mself\u001B[0m\u001B[1;33m.\u001B[0m\u001B[0mmin_\u001B[0m\u001B[1;33m\u001B[0m\u001B[1;33m\u001B[0m\u001B[0m\n\u001B[0m\u001B[0;32m    462\u001B[0m         \u001B[0mX\u001B[0m \u001B[1;33m/=\u001B[0m \u001B[0mself\u001B[0m\u001B[1;33m.\u001B[0m\u001B[0mscale_\u001B[0m\u001B[1;33m\u001B[0m\u001B[1;33m\u001B[0m\u001B[0m\n\u001B[0;32m    463\u001B[0m         \u001B[1;32mreturn\u001B[0m \u001B[0mX\u001B[0m\u001B[1;33m\u001B[0m\u001B[1;33m\u001B[0m\u001B[0m\n",
      "\u001B[1;31mValueError\u001B[0m: non-broadcastable output operand with shape (1097,1) doesn't match the broadcast shape (1097,2)"
     ]
    }
   ],
   "source": [
    "trainPredict = scaler.inverse_transform(trainPredict)\n",
    "trainY = scaler.inverse_transform([trainY])\n",
    "testPredict = scaler.inverse_transform(testPredict)\n",
    "testY = scaler.inverse_transform([testY])\n"
   ]
  },
  {
   "cell_type": "markdown",
   "source": [
    "calculate root mean squared error (RMSE)"
   ],
   "metadata": {
    "collapsed": false,
    "id": "h_PLr7knkLIB"
   },
   "id": "h_PLr7knkLIB"
  },
  {
   "cell_type": "code",
   "execution_count": null,
   "id": "1d6f9378",
   "metadata": {
    "id": "1d6f9378"
   },
   "outputs": [],
   "source": [
    "from sklearn.metrics import mean_squared_error\n",
    "trainScore = np.sqrt(mean_squared_error(trainY[0], trainPredict[:,0]))\n",
    "print('Train RMSE: %.2f' % (trainScore))\n",
    "testScore = np.sqrt(mean_squared_error(testY[0], testPredict[:,0]))\n",
    "print('Test RMSE: %.2f' % (testScore))"
   ]
  },
  {
   "cell_type": "code",
   "execution_count": null,
   "outputs": [],
   "source": [],
   "metadata": {
    "id": "6Oe86Fq6kLIC"
   },
   "id": "6Oe86Fq6kLIC"
  }
 ],
 "metadata": {
  "kernelspec": {
   "display_name": "Python 3 (ipykernel)",
   "language": "python",
   "name": "python3"
  },
  "language_info": {
   "codemirror_mode": {
    "name": "ipython",
    "version": 3
   },
   "file_extension": ".py",
   "mimetype": "text/x-python",
   "name": "python",
   "nbconvert_exporter": "python",
   "pygments_lexer": "ipython3",
   "version": "3.9.13"
  },
  "colab": {
   "provenance": []
  }
 },
 "nbformat": 4,
 "nbformat_minor": 5
}
