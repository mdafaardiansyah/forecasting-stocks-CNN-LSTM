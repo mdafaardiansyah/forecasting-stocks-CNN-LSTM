{
 "cells": [
  {
   "cell_type": "markdown",
   "id": "03f49506",
   "metadata": {
    "id": "03f49506"
   },
   "source": [
    "Import Library"
   ]
  },
  {
   "cell_type": "code",
   "execution_count": 103,
   "id": "10d7db6f",
   "metadata": {
    "id": "10d7db6f",
    "ExecuteTime": {
     "start_time": "2023-04-02T22:35:35.654644Z",
     "end_time": "2023-04-02T22:35:35.826480Z"
    }
   },
   "outputs": [],
   "source": [
    "import numpy as np\n",
    "import pandas as pd\n",
    "from keras.models import Sequential\n",
    "from keras.layers import Dense\n",
    "from keras.layers import LSTM\n",
    "from keras.layers import Dropout\n",
    "from keras.layers.convolutional import Conv1D\n",
    "from keras.layers.convolutional import MaxPooling1D"
   ]
  },
  {
   "cell_type": "code",
   "source": [
    "# from google.colab import drive\n",
    "# drive.mount('/gdrive')\n",
    "# %cd /gdrive"
   ],
   "metadata": {
    "colab": {
     "base_uri": "https://localhost:8080/"
    },
    "id": "xEloBZO31bu3",
    "outputId": "7a2ec4b7-f882-4183-bbe8-fed4f085e0e2",
    "ExecuteTime": {
     "start_time": "2023-04-02T22:35:35.670301Z",
     "end_time": "2023-04-02T22:35:35.920739Z"
    }
   },
   "id": "xEloBZO31bu3",
   "execution_count": 104,
   "outputs": []
  },
  {
   "cell_type": "code",
   "source": [
    "# from google.colab import drive\n",
    "# drive.mount('/content/drive')"
   ],
   "metadata": {
    "colab": {
     "base_uri": "https://localhost:8080/"
    },
    "id": "7i9J_OSiXfKX",
    "outputId": "d3fa1908-d6fe-4cf8-c5da-0878f348399d",
    "ExecuteTime": {
     "start_time": "2023-04-02T22:35:35.685921Z",
     "end_time": "2023-04-02T22:35:35.920739Z"
    }
   },
   "id": "7i9J_OSiXfKX",
   "execution_count": 105,
   "outputs": []
  },
  {
   "cell_type": "markdown",
   "id": "92d52e17",
   "metadata": {
    "id": "92d52e17"
   },
   "source": [
    "Load Dataset"
   ]
  },
  {
   "cell_type": "code",
   "execution_count": 106,
   "id": "6b320789",
   "metadata": {
    "id": "6b320789",
    "ExecuteTime": {
     "start_time": "2023-04-02T22:35:35.701509Z",
     "end_time": "2023-04-02T22:35:35.920739Z"
    }
   },
   "outputs": [],
   "source": [
    "dataset = pd.read_csv('NASDAQCompositeDataset.csv', index_col=0)\n",
    "#dataset = dataset.iloc[::-1] # reverse the order of dataset\n"
   ]
  },
  {
   "cell_type": "markdown",
   "source": [
    "Dataset Preview"
   ],
   "metadata": {
    "collapsed": false,
    "id": "ze78rCMGkLH9"
   },
   "id": "ze78rCMGkLH9"
  },
  {
   "cell_type": "code",
   "execution_count": 107,
   "outputs": [
    {
     "data": {
      "text/plain": "           Date      Price       Open       High        Low     Vol. Change %\nNo                                                                           \n0      9/6/2017   6,393.31   6,394.35   6,407.40   6,356.20  419.28M    0.28%\n1      9/7/2017   6,397.87   6,402.94   6,413.07   6,379.81  433.05M    0.07%\n2      9/8/2017   6,360.19   6,389.65   6,391.41   6,354.96  408.11M   -0.59%\n3     9/11/2017   6,432.26   6,411.18   6,439.11   6,410.71  431.57M    1.13%\n4     9/12/2017   6,454.28   6,448.81   6,455.02   6,429.54  404.69M    0.34%\n...         ...        ...        ...        ...        ...      ...      ...\n1372  2/17/2023  11,787.27  11,777.50  11,803.22  11,673.21  966.30M   -0.58%\n1373  2/21/2023  11,492.30  11,640.37  11,684.14  11,491.18    1.02B   -2.50%\n1374  2/22/2023  11,507.07  11,517.20  11,582.52  11,445.17  942.98M    0.13%\n1375  2/23/2023  11,590.40  11,636.93  11,638.97  11,432.58  903.17M    0.72%\n1376  2/24/2023  11,394.94  11,404.18  11,434.36  11,334.46  900.85M   -1.69%\n\n[1377 rows x 7 columns]",
      "text/html": "<div>\n<style scoped>\n    .dataframe tbody tr th:only-of-type {\n        vertical-align: middle;\n    }\n\n    .dataframe tbody tr th {\n        vertical-align: top;\n    }\n\n    .dataframe thead th {\n        text-align: right;\n    }\n</style>\n<table border=\"1\" class=\"dataframe\">\n  <thead>\n    <tr style=\"text-align: right;\">\n      <th></th>\n      <th>Date</th>\n      <th>Price</th>\n      <th>Open</th>\n      <th>High</th>\n      <th>Low</th>\n      <th>Vol.</th>\n      <th>Change %</th>\n    </tr>\n    <tr>\n      <th>No</th>\n      <th></th>\n      <th></th>\n      <th></th>\n      <th></th>\n      <th></th>\n      <th></th>\n      <th></th>\n    </tr>\n  </thead>\n  <tbody>\n    <tr>\n      <th>0</th>\n      <td>9/6/2017</td>\n      <td>6,393.31</td>\n      <td>6,394.35</td>\n      <td>6,407.40</td>\n      <td>6,356.20</td>\n      <td>419.28M</td>\n      <td>0.28%</td>\n    </tr>\n    <tr>\n      <th>1</th>\n      <td>9/7/2017</td>\n      <td>6,397.87</td>\n      <td>6,402.94</td>\n      <td>6,413.07</td>\n      <td>6,379.81</td>\n      <td>433.05M</td>\n      <td>0.07%</td>\n    </tr>\n    <tr>\n      <th>2</th>\n      <td>9/8/2017</td>\n      <td>6,360.19</td>\n      <td>6,389.65</td>\n      <td>6,391.41</td>\n      <td>6,354.96</td>\n      <td>408.11M</td>\n      <td>-0.59%</td>\n    </tr>\n    <tr>\n      <th>3</th>\n      <td>9/11/2017</td>\n      <td>6,432.26</td>\n      <td>6,411.18</td>\n      <td>6,439.11</td>\n      <td>6,410.71</td>\n      <td>431.57M</td>\n      <td>1.13%</td>\n    </tr>\n    <tr>\n      <th>4</th>\n      <td>9/12/2017</td>\n      <td>6,454.28</td>\n      <td>6,448.81</td>\n      <td>6,455.02</td>\n      <td>6,429.54</td>\n      <td>404.69M</td>\n      <td>0.34%</td>\n    </tr>\n    <tr>\n      <th>...</th>\n      <td>...</td>\n      <td>...</td>\n      <td>...</td>\n      <td>...</td>\n      <td>...</td>\n      <td>...</td>\n      <td>...</td>\n    </tr>\n    <tr>\n      <th>1372</th>\n      <td>2/17/2023</td>\n      <td>11,787.27</td>\n      <td>11,777.50</td>\n      <td>11,803.22</td>\n      <td>11,673.21</td>\n      <td>966.30M</td>\n      <td>-0.58%</td>\n    </tr>\n    <tr>\n      <th>1373</th>\n      <td>2/21/2023</td>\n      <td>11,492.30</td>\n      <td>11,640.37</td>\n      <td>11,684.14</td>\n      <td>11,491.18</td>\n      <td>1.02B</td>\n      <td>-2.50%</td>\n    </tr>\n    <tr>\n      <th>1374</th>\n      <td>2/22/2023</td>\n      <td>11,507.07</td>\n      <td>11,517.20</td>\n      <td>11,582.52</td>\n      <td>11,445.17</td>\n      <td>942.98M</td>\n      <td>0.13%</td>\n    </tr>\n    <tr>\n      <th>1375</th>\n      <td>2/23/2023</td>\n      <td>11,590.40</td>\n      <td>11,636.93</td>\n      <td>11,638.97</td>\n      <td>11,432.58</td>\n      <td>903.17M</td>\n      <td>0.72%</td>\n    </tr>\n    <tr>\n      <th>1376</th>\n      <td>2/24/2023</td>\n      <td>11,394.94</td>\n      <td>11,404.18</td>\n      <td>11,434.36</td>\n      <td>11,334.46</td>\n      <td>900.85M</td>\n      <td>-1.69%</td>\n    </tr>\n  </tbody>\n</table>\n<p>1377 rows × 7 columns</p>\n</div>"
     },
     "execution_count": 107,
     "metadata": {},
     "output_type": "execute_result"
    }
   ],
   "source": [
    "dataset"
   ],
   "metadata": {
    "id": "21kNoxgGkLH9",
    "outputId": "ff4bbbbf-b693-4127-a3e6-3f9a992c7146",
    "colab": {
     "base_uri": "https://localhost:8080/",
     "height": 455
    },
    "ExecuteTime": {
     "start_time": "2023-04-02T22:35:35.717164Z",
     "end_time": "2023-04-02T22:35:35.920739Z"
    }
   },
   "id": "21kNoxgGkLH9"
  },
  {
   "cell_type": "markdown",
   "source": [
    "Preproccessing Data"
   ],
   "metadata": {
    "collapsed": false
   }
  },
  {
   "cell_type": "markdown",
   "source": [
    "1. Filtering Data"
   ],
   "metadata": {
    "collapsed": false
   }
  },
  {
   "cell_type": "code",
   "execution_count": 108,
   "outputs": [
    {
     "data": {
      "text/plain": "           Date      Open\nNo                       \n0    2017-09-06   6394.35\n1    2017-09-07   6402.94\n2    2017-09-08   6389.65\n3    2017-09-11   6411.18\n4    2017-09-12   6448.81\n...         ...       ...\n1372 2023-02-17  11777.50\n1373 2023-02-21  11640.37\n1374 2023-02-22  11517.20\n1375 2023-02-23  11636.93\n1376 2023-02-24  11404.18\n\n[1377 rows x 2 columns]",
      "text/html": "<div>\n<style scoped>\n    .dataframe tbody tr th:only-of-type {\n        vertical-align: middle;\n    }\n\n    .dataframe tbody tr th {\n        vertical-align: top;\n    }\n\n    .dataframe thead th {\n        text-align: right;\n    }\n</style>\n<table border=\"1\" class=\"dataframe\">\n  <thead>\n    <tr style=\"text-align: right;\">\n      <th></th>\n      <th>Date</th>\n      <th>Open</th>\n    </tr>\n    <tr>\n      <th>No</th>\n      <th></th>\n      <th></th>\n    </tr>\n  </thead>\n  <tbody>\n    <tr>\n      <th>0</th>\n      <td>2017-09-06</td>\n      <td>6394.35</td>\n    </tr>\n    <tr>\n      <th>1</th>\n      <td>2017-09-07</td>\n      <td>6402.94</td>\n    </tr>\n    <tr>\n      <th>2</th>\n      <td>2017-09-08</td>\n      <td>6389.65</td>\n    </tr>\n    <tr>\n      <th>3</th>\n      <td>2017-09-11</td>\n      <td>6411.18</td>\n    </tr>\n    <tr>\n      <th>4</th>\n      <td>2017-09-12</td>\n      <td>6448.81</td>\n    </tr>\n    <tr>\n      <th>...</th>\n      <td>...</td>\n      <td>...</td>\n    </tr>\n    <tr>\n      <th>1372</th>\n      <td>2023-02-17</td>\n      <td>11777.50</td>\n    </tr>\n    <tr>\n      <th>1373</th>\n      <td>2023-02-21</td>\n      <td>11640.37</td>\n    </tr>\n    <tr>\n      <th>1374</th>\n      <td>2023-02-22</td>\n      <td>11517.20</td>\n    </tr>\n    <tr>\n      <th>1375</th>\n      <td>2023-02-23</td>\n      <td>11636.93</td>\n    </tr>\n    <tr>\n      <th>1376</th>\n      <td>2023-02-24</td>\n      <td>11404.18</td>\n    </tr>\n  </tbody>\n</table>\n<p>1377 rows × 2 columns</p>\n</div>"
     },
     "execution_count": 108,
     "metadata": {},
     "output_type": "execute_result"
    }
   ],
   "source": [
    "dataset=dataset.drop(['Price', 'High', 'Low', 'Vol.', \"Change %\"], axis=1)\n",
    "dataset['Date'] = pd.to_datetime(dataset['Date'])\n",
    "dataset['Open']= dataset['Open'].str.replace(',', '')\n",
    "dataset"
   ],
   "metadata": {
    "collapsed": false,
    "ExecuteTime": {
     "start_time": "2023-04-02T22:35:35.748406Z",
     "end_time": "2023-04-02T22:35:35.951982Z"
    }
   }
  },
  {
   "cell_type": "markdown",
   "source": [
    "2. Filling Missing Value at Missing Date"
   ],
   "metadata": {
    "collapsed": false
   }
  },
  {
   "cell_type": "code",
   "execution_count": 109,
   "outputs": [
    {
     "data": {
      "text/plain": "           Date      Open\n0    2017-09-06   6394.35\n1    2017-09-07   6402.94\n2    2017-09-08   6389.65\n3    2017-09-09   6389.65\n4    2017-09-10   6389.65\n...         ...       ...\n1993 2023-02-20  11777.50\n1994 2023-02-21  11640.37\n1995 2023-02-22  11517.20\n1996 2023-02-23  11636.93\n1997 2023-02-24  11404.18\n\n[1998 rows x 2 columns]",
      "text/html": "<div>\n<style scoped>\n    .dataframe tbody tr th:only-of-type {\n        vertical-align: middle;\n    }\n\n    .dataframe tbody tr th {\n        vertical-align: top;\n    }\n\n    .dataframe thead th {\n        text-align: right;\n    }\n</style>\n<table border=\"1\" class=\"dataframe\">\n  <thead>\n    <tr style=\"text-align: right;\">\n      <th></th>\n      <th>Date</th>\n      <th>Open</th>\n    </tr>\n  </thead>\n  <tbody>\n    <tr>\n      <th>0</th>\n      <td>2017-09-06</td>\n      <td>6394.35</td>\n    </tr>\n    <tr>\n      <th>1</th>\n      <td>2017-09-07</td>\n      <td>6402.94</td>\n    </tr>\n    <tr>\n      <th>2</th>\n      <td>2017-09-08</td>\n      <td>6389.65</td>\n    </tr>\n    <tr>\n      <th>3</th>\n      <td>2017-09-09</td>\n      <td>6389.65</td>\n    </tr>\n    <tr>\n      <th>4</th>\n      <td>2017-09-10</td>\n      <td>6389.65</td>\n    </tr>\n    <tr>\n      <th>...</th>\n      <td>...</td>\n      <td>...</td>\n    </tr>\n    <tr>\n      <th>1993</th>\n      <td>2023-02-20</td>\n      <td>11777.50</td>\n    </tr>\n    <tr>\n      <th>1994</th>\n      <td>2023-02-21</td>\n      <td>11640.37</td>\n    </tr>\n    <tr>\n      <th>1995</th>\n      <td>2023-02-22</td>\n      <td>11517.20</td>\n    </tr>\n    <tr>\n      <th>1996</th>\n      <td>2023-02-23</td>\n      <td>11636.93</td>\n    </tr>\n    <tr>\n      <th>1997</th>\n      <td>2023-02-24</td>\n      <td>11404.18</td>\n    </tr>\n  </tbody>\n</table>\n<p>1998 rows × 2 columns</p>\n</div>"
     },
     "execution_count": 109,
     "metadata": {},
     "output_type": "execute_result"
    }
   ],
   "source": [
    "dataset = dataset.set_index('Date')\n",
    "dataset = dataset.resample('D').mean()\n",
    "dataset = dataset.reset_index()\n",
    "dataset = dataset.fillna(method='ffill')\n",
    "dataset"
   ],
   "metadata": {
    "collapsed": false,
    "ExecuteTime": {
     "start_time": "2023-04-02T22:35:35.810861Z",
     "end_time": "2023-04-02T22:35:36.108194Z"
    }
   }
  },
  {
   "cell_type": "markdown",
   "source": [
    "3. Reshape Data"
   ],
   "metadata": {
    "collapsed": false
   }
  },
  {
   "cell_type": "code",
   "execution_count": 109,
   "outputs": [],
   "source": [],
   "metadata": {
    "collapsed": false,
    "ExecuteTime": {
     "start_time": "2023-04-02T22:35:35.998846Z",
     "end_time": "2023-04-02T22:35:36.139487Z"
    }
   }
  },
  {
   "cell_type": "markdown",
   "source": [
    "4. Normalization Data with MinMaxScaler without Date"
   ],
   "metadata": {
    "collapsed": false
   }
  },
  {
   "cell_type": "code",
   "execution_count": 113,
   "outputs": [
    {
     "data": {
      "text/plain": "array([[0.0138385 ],\n       [0.01470943],\n       [0.01336198],\n       ...,\n       [0.53323614],\n       [0.54537537],\n       [0.52177722]])"
     },
     "execution_count": 113,
     "metadata": {},
     "output_type": "execute_result"
    }
   ],
   "source": [
    "from sklearn.preprocessing import MinMaxScaler\n",
    "scaler = MinMaxScaler(feature_range=(0, 1))\n",
    "dataset[\"Open\"] = pd.to_numeric(dataset[\"Open\"])\n",
    "scaled_data = scaler.fit_transform(dataset['Open'].values.reshape(-1,1))\n",
    "scaled_data"
   ],
   "metadata": {
    "collapsed": false,
    "ExecuteTime": {
     "start_time": "2023-04-02T22:46:04.252891Z",
     "end_time": "2023-04-02T22:46:04.268512Z"
    }
   }
  },
  {
   "cell_type": "markdown",
   "source": [
    "5. Split Data"
   ],
   "metadata": {
    "collapsed": false
   }
  },
  {
   "cell_type": "code",
   "execution_count": null,
   "outputs": [],
   "source": [
    "# dataset['Date'] = dataset.index\n",
    "# dataset = dataset.set_index('Date')"
   ],
   "metadata": {
    "collapsed": false,
    "ExecuteTime": {
     "start_time": "2023-04-02T22:33:41.362800Z",
     "end_time": "2023-04-02T22:33:41.831474Z"
    }
   }
  },
  {
   "cell_type": "markdown",
   "source": [
    "6. Create Data Train"
   ],
   "metadata": {
    "collapsed": false
   }
  },
  {
   "cell_type": "code",
   "execution_count": null,
   "outputs": [],
   "source": [],
   "metadata": {
    "collapsed": false,
    "ExecuteTime": {
     "start_time": "2023-04-02T22:33:41.378422Z",
     "end_time": "2023-04-02T22:33:41.847095Z"
    }
   }
  },
  {
   "cell_type": "markdown",
   "source": [
    "7. Ekstraksi Fitur dengan CNN"
   ],
   "metadata": {
    "collapsed": false
   }
  },
  {
   "cell_type": "code",
   "execution_count": null,
   "outputs": [],
   "source": [],
   "metadata": {
    "collapsed": false,
    "ExecuteTime": {
     "start_time": "2023-04-02T22:33:41.394043Z",
     "end_time": "2023-04-02T22:33:41.847095Z"
    }
   }
  },
  {
   "cell_type": "markdown",
   "source": [
    "8. Flattening Feature Map"
   ],
   "metadata": {
    "collapsed": false
   }
  },
  {
   "cell_type": "code",
   "execution_count": null,
   "outputs": [],
   "source": [],
   "metadata": {
    "collapsed": false,
    "ExecuteTime": {
     "start_time": "2023-04-02T22:33:41.409665Z",
     "end_time": "2023-04-02T22:33:41.878305Z"
    }
   }
  },
  {
   "cell_type": "markdown",
   "source": [
    "Split Dataset into 3 range time different"
   ],
   "metadata": {
    "collapsed": false,
    "id": "pN2xRiBHkLH-"
   },
   "id": "pN2xRiBHkLH-"
  },
  {
   "cell_type": "code",
   "execution_count": null,
   "outputs": [],
   "source": [
    "data_before_pandemic=dataset[dataset[\"Date\"] < \"3/11/2020\"]\n",
    "data_while_pandemic=dataset[(dataset[\"Date\"] >= \"3/11/2020\") & (dataset[\"Date\"] <= \"9/13/2022\")]\n",
    "data_after_pandemic=dataset[dataset[\"Date\"] > \"9/13/2022\"]"
   ],
   "metadata": {
    "id": "EUwhMGNckLH-",
    "ExecuteTime": {
     "start_time": "2023-04-02T22:33:41.425286Z",
     "end_time": "2023-04-02T22:33:41.878305Z"
    }
   },
   "id": "EUwhMGNckLH-"
  },
  {
   "cell_type": "markdown",
   "source": [
    "#Dataset before pandemic"
   ],
   "metadata": {
    "collapsed": false,
    "id": "NcAMmQHnkLH-"
   },
   "id": "NcAMmQHnkLH-"
  },
  {
   "cell_type": "code",
   "execution_count": null,
   "outputs": [],
   "source": [
    "data_before_pandemic"
   ],
   "metadata": {
    "id": "xNXWhGAgkLH-",
    "outputId": "1ca3618a-c589-4b1f-ed1c-40dadf85bd5e",
    "colab": {
     "base_uri": "https://localhost:8080/",
     "height": 455
    },
    "ExecuteTime": {
     "start_time": "2023-04-02T22:33:41.440945Z",
     "end_time": "2023-04-02T22:33:41.878305Z"
    }
   },
   "id": "xNXWhGAgkLH-"
  },
  {
   "cell_type": "markdown",
   "source": [
    "#Dataset while pandemic"
   ],
   "metadata": {
    "collapsed": false,
    "id": "Kr96EAT2kLH-"
   },
   "id": "Kr96EAT2kLH-"
  },
  {
   "cell_type": "code",
   "execution_count": null,
   "outputs": [],
   "source": [
    "data_while_pandemic"
   ],
   "metadata": {
    "id": "N9mkAcgMkLH-",
    "outputId": "3a7be575-1dba-4f66-b3ce-ced292a6086d",
    "colab": {
     "base_uri": "https://localhost:8080/",
     "height": 455
    },
    "ExecuteTime": {
     "start_time": "2023-04-02T22:33:41.456529Z",
     "end_time": "2023-04-02T22:33:41.878305Z"
    }
   },
   "id": "N9mkAcgMkLH-"
  },
  {
   "cell_type": "markdown",
   "source": [
    "#Dataset after pandemic"
   ],
   "metadata": {
    "collapsed": false,
    "id": "qTof8qs3kLH_"
   },
   "id": "qTof8qs3kLH_"
  },
  {
   "cell_type": "code",
   "execution_count": null,
   "outputs": [],
   "source": [
    "data_after_pandemic"
   ],
   "metadata": {
    "id": "gtFezW9DkLH_",
    "outputId": "835b728a-bcd5-4fa0-936c-38cc29eb30da",
    "colab": {
     "base_uri": "https://localhost:8080/",
     "height": 455
    },
    "ExecuteTime": {
     "start_time": "2023-04-02T22:33:41.472150Z",
     "end_time": "2023-04-02T22:33:41.878305Z"
    }
   },
   "id": "gtFezW9DkLH_"
  },
  {
   "cell_type": "markdown",
   "id": "9eca784b",
   "metadata": {
    "id": "9eca784b"
   },
   "source": [
    "Normalize Dataset"
   ]
  },
  {
   "cell_type": "code",
   "execution_count": null,
   "id": "f1872432",
   "metadata": {
    "id": "f1872432",
    "ExecuteTime": {
     "start_time": "2023-04-02T22:33:41.487776Z",
     "end_time": "2023-04-02T22:33:41.878305Z"
    }
   },
   "outputs": [],
   "source": [
    "from sklearn.preprocessing import MinMaxScaler\n",
    "scaler = MinMaxScaler(feature_range=(0, 1))\n",
    "dataset['Date'] = pd.to_numeric(pd.to_datetime(dataset['Date']))\n",
    "dataset[\"Open\"] = pd.to_numeric(dataset[\"Open\"])\n",
    "dataset= scaler.fit_transform(dataset)\n"
   ]
  },
  {
   "cell_type": "code",
   "execution_count": null,
   "outputs": [],
   "source": [],
   "metadata": {
    "id": "NmSb6pm0kLH_",
    "ExecuteTime": {
     "start_time": "2023-04-02T22:33:41.503394Z",
     "end_time": "2023-04-02T22:33:41.878305Z"
    }
   },
   "id": "NmSb6pm0kLH_"
  },
  {
   "cell_type": "markdown",
   "id": "224c2a89",
   "metadata": {
    "id": "224c2a89"
   },
   "source": [
    "Split Dataset Into Train and Test Sets"
   ]
  },
  {
   "cell_type": "code",
   "execution_count": null,
   "id": "15f5689b",
   "metadata": {
    "id": "15f5689b",
    "ExecuteTime": {
     "start_time": "2023-04-02T22:33:41.519043Z",
     "end_time": "2023-04-02T22:33:41.878305Z"
    }
   },
   "outputs": [],
   "source": [
    "train_size = int(len(dataset) * 0.8)\n",
    "test_size = len(dataset) - train_size\n",
    "train, test = dataset[0:train_size,:], dataset[train_size:len(dataset),:]"
   ]
  },
  {
   "cell_type": "markdown",
   "id": "a5944f16",
   "metadata": {
    "id": "a5944f16"
   },
   "source": [
    "Define a function to create a dataset with look back"
   ]
  },
  {
   "cell_type": "code",
   "execution_count": null,
   "id": "98a09d93",
   "metadata": {
    "id": "98a09d93",
    "ExecuteTime": {
     "start_time": "2023-04-02T22:33:41.534636Z",
     "end_time": "2023-04-02T22:33:41.878305Z"
    }
   },
   "outputs": [],
   "source": [
    "def create_dataset(dataset, look_back=1):\n",
    "    dataX, dataY = [], []\n",
    "    for i in range(len(dataset)-look_back-1):\n",
    "        a = dataset[i:(i+look_back), 0]\n",
    "        dataX.append(a)\n",
    "        dataY.append(dataset[i + look_back, 0])\n",
    "    return np.array(dataX), np.array(dataY)"
   ]
  },
  {
   "cell_type": "markdown",
   "id": "b09b68c9",
   "metadata": {
    "id": "b09b68c9"
   },
   "source": [
    "Reshape dataset into X=t and Y=t+1"
   ]
  },
  {
   "cell_type": "code",
   "execution_count": null,
   "id": "715df853",
   "metadata": {
    "id": "715df853",
    "ExecuteTime": {
     "start_time": "2023-04-02T22:33:41.550257Z",
     "end_time": "2023-04-02T22:33:41.878305Z"
    }
   },
   "outputs": [],
   "source": [
    "look_back = 3\n",
    "trainX, trainY = create_dataset(train, look_back)\n",
    "testX, testY = create_dataset(test, look_back)"
   ]
  },
  {
   "cell_type": "markdown",
   "id": "7b780ced",
   "metadata": {
    "id": "7b780ced"
   },
   "source": [
    "Reshape input to be [samples, time steps, features]"
   ]
  },
  {
   "cell_type": "code",
   "execution_count": null,
   "id": "4a291b7f",
   "metadata": {
    "id": "4a291b7f",
    "ExecuteTime": {
     "start_time": "2023-04-02T22:33:41.566005Z",
     "end_time": "2023-04-02T22:33:41.878305Z"
    }
   },
   "outputs": [],
   "source": [
    "trainX = np.reshape(trainX, (trainX.shape[0], trainX.shape[1], 1))\n",
    "testX = np.reshape(testX, (testX.shape[0], testX.shape[1], 1))"
   ]
  },
  {
   "cell_type": "markdown",
   "id": "cb2ec634",
   "metadata": {
    "id": "cb2ec634"
   },
   "source": [
    "Create and Fit the CNN-LSTM model"
   ]
  },
  {
   "cell_type": "code",
   "execution_count": null,
   "id": "77d47e96",
   "metadata": {
    "id": "77d47e96",
    "outputId": "c81ad5ec-e01e-48dc-def6-dba9ed7f3939",
    "colab": {
     "base_uri": "https://localhost:8080/"
    },
    "ExecuteTime": {
     "start_time": "2023-04-02T22:33:41.581653Z",
     "end_time": "2023-04-02T22:33:49.014883Z"
    }
   },
   "outputs": [],
   "source": [
    "model = Sequential()\n",
    "model.add(Conv1D(filters=64, kernel_size=2, activation='relu', input_shape=(look_back, 1)))\n",
    "model.add(MaxPooling1D(pool_size=2))\n",
    "model.add(Dropout(0.2))\n",
    "model.add(LSTM(100))\n",
    "model.add(Dense(1))\n",
    "model.compile(loss='mean_squared_error', optimizer='adam')\n",
    "model.fit(trainX, trainY, epochs=100, batch_size=64, verbose=2)"
   ]
  },
  {
   "cell_type": "markdown",
   "id": "e0c7aa23",
   "metadata": {
    "id": "e0c7aa23"
   },
   "source": [
    "Make predictions"
   ]
  },
  {
   "cell_type": "code",
   "execution_count": null,
   "id": "eeb296be",
   "metadata": {
    "id": "eeb296be",
    "outputId": "3b7bea78-f2ac-44d3-c863-40f2ae4acc87",
    "colab": {
     "base_uri": "https://localhost:8080/"
    },
    "ExecuteTime": {
     "start_time": "2023-04-02T22:33:48.999207Z",
     "end_time": "2023-04-02T22:33:49.423288Z"
    }
   },
   "outputs": [],
   "source": [
    "trainPredict = model.predict(trainX)\n",
    "testPredict = model.predict(testX)\n",
    "trainPredictPlot = np.empty_like(dataset)\n",
    "trainPredictPlot[:, :] = np.nan\n",
    "trainPredictPlot[look_back:len(trainPredict)+look_back, :] = trainPredict\n",
    "testPredictPlot = np.empty_like(dataset)\n",
    "testPredictPlot[:, :] = np.nan\n",
    "testPredictPlot[len(trainPredict)+(look_back*2)+1:len(dataset)-1, :] = testPredict\n"
   ]
  },
  {
   "cell_type": "markdown",
   "id": "403c097f",
   "metadata": {
    "id": "403c097f"
   },
   "source": [
    "Invert predictions back to original scale"
   ]
  },
  {
   "cell_type": "code",
   "execution_count": null,
   "id": "2bc57214",
   "metadata": {
    "id": "2bc57214",
    "outputId": "039eb5df-fef1-4904-d5cc-ccfbb806ae6e",
    "colab": {
     "base_uri": "https://localhost:8080/",
     "height": 340
    }
   },
   "outputs": [],
   "source": [
    "trainPredict = scaler.inverse_transform(trainPredict)\n",
    "trainY = scaler.inverse_transform([trainY])\n",
    "testPredict = scaler.inverse_transform(testPredict)\n",
    "testY = scaler.inverse_transform([testY])\n"
   ]
  },
  {
   "cell_type": "markdown",
   "source": [
    "calculate root mean squared error (RMSE)"
   ],
   "metadata": {
    "collapsed": false,
    "id": "h_PLr7knkLIB"
   },
   "id": "h_PLr7knkLIB"
  },
  {
   "cell_type": "code",
   "execution_count": null,
   "id": "1d6f9378",
   "metadata": {
    "id": "1d6f9378"
   },
   "outputs": [],
   "source": [
    "from sklearn.metrics import mean_squared_error\n",
    "trainScore = np.sqrt(mean_squared_error(trainY[0], trainPredict[:,0]))\n",
    "print('Train RMSE: %.2f' % (trainScore))\n",
    "testScore = np.sqrt(mean_squared_error(testY[0], testPredict[:,0]))\n",
    "print('Test RMSE: %.2f' % (testScore))"
   ]
  },
  {
   "cell_type": "code",
   "execution_count": null,
   "outputs": [],
   "source": [],
   "metadata": {
    "id": "6Oe86Fq6kLIC"
   },
   "id": "6Oe86Fq6kLIC"
  }
 ],
 "metadata": {
  "kernelspec": {
   "display_name": "Python 3 (ipykernel)",
   "language": "python",
   "name": "python3"
  },
  "language_info": {
   "codemirror_mode": {
    "name": "ipython",
    "version": 3
   },
   "file_extension": ".py",
   "mimetype": "text/x-python",
   "name": "python",
   "nbconvert_exporter": "python",
   "pygments_lexer": "ipython3",
   "version": "3.9.13"
  },
  "colab": {
   "provenance": []
  }
 },
 "nbformat": 4,
 "nbformat_minor": 5
}
